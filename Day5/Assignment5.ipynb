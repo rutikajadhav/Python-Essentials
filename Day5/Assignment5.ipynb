{
 "cells": [
  {
   "cell_type": "code",
   "execution_count": 1,
   "metadata": {},
   "outputs": [],
   "source": [
    "# Q1. [0,1,2,10,4,1,0,56,2,0,1,3,0,56,0,4]\n",
    "# Sort by increasing order but all zeros should be at the right hand side."
   ]
  },
  {
   "cell_type": "code",
   "execution_count": 2,
   "metadata": {},
   "outputs": [
    {
     "name": "stdout",
     "output_type": "stream",
     "text": [
      "Array after pushing all zeros to end of array:\n",
      "[1, 1, 1, 2, 2, 3, 4, 4, 10, 56, 56, 0, 0, 0, 0, 0]\n"
     ]
    }
   ],
   "source": [
    "def pushZerosToEnd(arr, n): \n",
    "    count = 0 \n",
    "    for i in range(n): \n",
    "        if arr[i] != 0: \n",
    "            arr[count] = arr[i] \n",
    "            count+=1\n",
    "    while count < n: \n",
    "        arr[count] = 0\n",
    "        count += 1\n",
    "          \n",
    "arr = [0, 1, 2, 10, 4, 1, 0, 56, 2, 0, 1, 3, 0, 56, 0, 4] \n",
    "x = arr.sort()\n",
    "n = len(arr) \n",
    "pushZerosToEnd(arr, n) \n",
    "print(\"Array after pushing all zeros to end of array:\") \n",
    "print(arr) "
   ]
  },
  {
   "cell_type": "code",
   "execution_count": 3,
   "metadata": {},
   "outputs": [],
   "source": [
    "# Q2. list1=[10,20,40,60,70,80] sorted list\n",
    "#     list2=[5,15,25,35,45,60] sorted list\n",
    "# Merge these two sorted lists to produce one sorted list, but use only loop either while or for only one time."
   ]
  },
  {
   "cell_type": "code",
   "execution_count": 4,
   "metadata": {},
   "outputs": [
    {
     "name": "stdout",
     "output_type": "stream",
     "text": [
      "The original list 1 is : [10, 20, 40, 60, 70, 80]\n",
      "The original list 2 is : [5, 15, 25, 35, 45, 60]\n",
      "The combined sorted list is : [5, 10, 15, 20, 25, 35, 40, 45, 60, 60, 70, 80]\n"
     ]
    }
   ],
   "source": [
    "test_list1 = [10, 20, 40, 60, 70, 80] \n",
    "test_list2 = [5, 15, 25, 35, 45, 60] \n",
    "\n",
    "print (\"The original list 1 is : \" + str(test_list1)) \n",
    "print (\"The original list 2 is : \" + str(test_list2)) \n",
    "  \n",
    "size_1 = len(test_list1) \n",
    "size_2 = len(test_list2) \n",
    "res = [] \n",
    "i, j = 0, 0\n",
    "  \n",
    "while i < size_1 and j < size_2: \n",
    "    if test_list1[i] < test_list2[j]: \n",
    "      res.append(test_list1[i]) \n",
    "      i += 1\n",
    "  \n",
    "    else: \n",
    "      res.append(test_list2[j]) \n",
    "      j += 1\n",
    "  \n",
    "res = res + test_list1[i:] + test_list2[j:] \n",
    "  \n",
    "print (\"The combined sorted list is : \" + str(res)) "
   ]
  },
  {
   "cell_type": "code",
   "execution_count": null,
   "metadata": {},
   "outputs": [],
   "source": []
  }
 ],
 "metadata": {
  "kernelspec": {
   "display_name": "Python 3",
   "language": "python",
   "name": "python3"
  },
  "language_info": {
   "codemirror_mode": {
    "name": "ipython",
    "version": 3
   },
   "file_extension": ".py",
   "mimetype": "text/x-python",
   "name": "python",
   "nbconvert_exporter": "python",
   "pygments_lexer": "ipython3",
   "version": "3.7.4"
  }
 },
 "nbformat": 4,
 "nbformat_minor": 4
}
